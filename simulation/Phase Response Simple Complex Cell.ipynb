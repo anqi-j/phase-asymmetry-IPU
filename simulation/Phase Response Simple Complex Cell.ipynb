{
 "cells": [
  {
   "cell_type": "code",
   "execution_count": null,
   "metadata": {},
   "outputs": [],
   "source": [
    "import numpy as np\n",
    "import pandas as pd\n",
    "import matplotlib.pyplot as plt"
   ]
  },
  {
   "cell_type": "code",
   "execution_count": null,
   "metadata": {},
   "outputs": [],
   "source": [
    "from bayesee.generation import *"
   ]
  },
  {
   "cell_type": "code",
   "execution_count": null,
   "metadata": {},
   "outputs": [],
   "source": [
    "size = (10, 10)\n",
    "frequencies = (4, 0)\n",
    "cosine = cosine_wave(size, frequencies)\n",
    "sine = sine_wave(size, frequencies)\n",
    "\n",
    "sine_phase = lambda a: (sine + a * cosine) / np.sqrt(a**2 + 1)"
   ]
  },
  {
   "cell_type": "code",
   "execution_count": null,
   "metadata": {},
   "outputs": [],
   "source": [
    "array_phase = np.arange(-10, 11)\n",
    "\n",
    "array_norm = np.zeros_like(array_phase)\n",
    "array_sine_response = np.zeros_like(array_phase)\n",
    "array_cosine_response = np.zeros_like(array_phase)\n",
    "\n",
    "flattened_sine = sine.flatten()\n",
    "flattened_cosine = cosine.flatten()\n",
    "\n",
    "for phase_index, phase in enumerate(array_phase):\n",
    "    flattened_sine_phase = sine_phase(phase).flatten()\n",
    "    array_norm[phase_index] = np.dot(flattened_sine_phase, flattened_sine_phase)\n",
    "    array_sine_response[phase_index] = np.dot(flattened_sine_phase, flattened_sine)\n",
    "    array_cosine_response[phase_index] = np.dot(flattened_sine_phase, flattened_cosine)"
   ]
  },
  {
   "cell_type": "code",
   "execution_count": null,
   "metadata": {},
   "outputs": [],
   "source": [
    "plt.scatter(array_phase, array_norm, label=\"energy\")\n",
    "plt.scatter(array_phase, array_sine_response, label=\"sine response\")\n",
    "plt.scatter(array_phase, array_cosine_response, label=\"cosine response\")\n",
    "plt.legend()"
   ]
  },
  {
   "cell_type": "code",
   "execution_count": null,
   "metadata": {},
   "outputs": [],
   "source": [
    "plt.scatter(array_phase, np.sqrt(array_sine_response**2 + array_cosine_response**2))\n",
    "plt.ylim([-110, 110])"
   ]
  }
 ],
 "metadata": {
  "kernelspec": {
   "display_name": "bayesee",
   "language": "python",
   "name": "python3"
  },
  "language_info": {
   "codemirror_mode": {
    "name": "ipython",
    "version": 3
   },
   "file_extension": ".py",
   "mimetype": "text/x-python",
   "name": "python",
   "nbconvert_exporter": "python",
   "pygments_lexer": "ipython3",
   "version": "3.10.8"
  },
  "orig_nbformat": 4
 },
 "nbformat": 4,
 "nbformat_minor": 2
}
